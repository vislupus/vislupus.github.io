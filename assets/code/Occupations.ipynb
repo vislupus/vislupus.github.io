{
 "cells": [
  {
   "cell_type": "code",
   "execution_count": 1,
   "metadata": {},
   "outputs": [
    {
     "name": "stdout",
     "output_type": "stream",
     "text": [
      "Setup Complete\n"
     ]
    }
   ],
   "source": [
    "import matplotlib.pyplot as plt\n",
    "import seaborn as sns\n",
    "import pandas as pd\n",
    "import numpy as np\n",
    "import re\n",
    "\n",
    "%matplotlib inline\n",
    "sns.set(style=\"whitegrid\")\n",
    "sns.set_color_codes(\"pastel\")\n",
    "\n",
    "print(\"Setup Complete\")"
   ]
  },
  {
   "cell_type": "code",
   "execution_count": 2,
   "metadata": {},
   "outputs": [
    {
     "data": {
      "text/html": [
       "<div>\n",
       "<style scoped>\n",
       "    .dataframe tbody tr th:only-of-type {\n",
       "        vertical-align: middle;\n",
       "    }\n",
       "\n",
       "    .dataframe tbody tr th {\n",
       "        vertical-align: top;\n",
       "    }\n",
       "\n",
       "    .dataframe thead th {\n",
       "        text-align: right;\n",
       "    }\n",
       "</style>\n",
       "<table border=\"1\" class=\"dataframe\">\n",
       "  <thead>\n",
       "    <tr style=\"text-align: right;\">\n",
       "      <th></th>\n",
       "      <th>personLabel</th>\n",
       "      <th>birth</th>\n",
       "      <th>death</th>\n",
       "      <th>age</th>\n",
       "      <th>genderLabel</th>\n",
       "    </tr>\n",
       "  </thead>\n",
       "  <tbody>\n",
       "    <tr>\n",
       "      <th>0</th>\n",
       "      <td>Abdul Ahad Mohmand</td>\n",
       "      <td>1959-01-01T00:00:00Z</td>\n",
       "      <td>NaN</td>\n",
       "      <td>NaN</td>\n",
       "      <td>male</td>\n",
       "    </tr>\n",
       "    <tr>\n",
       "      <th>1</th>\n",
       "      <td>Abdulmohsen Al-Bassam</td>\n",
       "      <td>1948-12-12T00:00:00Z</td>\n",
       "      <td>NaN</td>\n",
       "      <td>NaN</td>\n",
       "      <td>male</td>\n",
       "    </tr>\n",
       "    <tr>\n",
       "      <th>2</th>\n",
       "      <td>Abigail Harrison</td>\n",
       "      <td>1997-06-11T00:00:00Z</td>\n",
       "      <td>NaN</td>\n",
       "      <td>NaN</td>\n",
       "      <td>female</td>\n",
       "    </tr>\n",
       "    <tr>\n",
       "      <th>3</th>\n",
       "      <td>Akihiko Hoshide</td>\n",
       "      <td>1968-12-28T00:00:00Z</td>\n",
       "      <td>NaN</td>\n",
       "      <td>NaN</td>\n",
       "      <td>male</td>\n",
       "    </tr>\n",
       "    <tr>\n",
       "      <th>4</th>\n",
       "      <td>Alan Bean</td>\n",
       "      <td>1932-03-15T00:00:00Z</td>\n",
       "      <td>2018-05-26T00:00:00Z</td>\n",
       "      <td>86.0</td>\n",
       "      <td>male</td>\n",
       "    </tr>\n",
       "  </tbody>\n",
       "</table>\n",
       "</div>"
      ],
      "text/plain": [
       "             personLabel                 birth                 death   age  \\\n",
       "0     Abdul Ahad Mohmand  1959-01-01T00:00:00Z                   NaN   NaN   \n",
       "1  Abdulmohsen Al-Bassam  1948-12-12T00:00:00Z                   NaN   NaN   \n",
       "2       Abigail Harrison  1997-06-11T00:00:00Z                   NaN   NaN   \n",
       "3        Akihiko Hoshide  1968-12-28T00:00:00Z                   NaN   NaN   \n",
       "4              Alan Bean  1932-03-15T00:00:00Z  2018-05-26T00:00:00Z  86.0   \n",
       "\n",
       "  genderLabel  \n",
       "0        male  \n",
       "1        male  \n",
       "2      female  \n",
       "3        male  \n",
       "4        male  "
      ]
     },
     "execution_count": 2,
     "metadata": {},
     "output_type": "execute_result"
    }
   ],
   "source": [
    "occupation_data = pd.read_csv('cosmonauts.csv', parse_dates=True)\n",
    "\n",
    "occupation_data.head()"
   ]
  },
  {
   "cell_type": "code",
   "execution_count": 165,
   "metadata": {},
   "outputs": [
    {
     "data": {
      "text/plain": [
       "(749, 5)"
      ]
     },
     "execution_count": 165,
     "metadata": {},
     "output_type": "execute_result"
    }
   ],
   "source": [
    "occupation_data.shape"
   ]
  },
  {
   "cell_type": "code",
   "execution_count": 166,
   "metadata": {},
   "outputs": [
    {
     "data": {
      "text/plain": [
       "741"
      ]
     },
     "execution_count": 166,
     "metadata": {},
     "output_type": "execute_result"
    }
   ],
   "source": [
    "len(occupation_data['personLabel'].unique())"
   ]
  },
  {
   "cell_type": "code",
   "execution_count": 145,
   "metadata": {},
   "outputs": [
    {
     "data": {
      "text/html": [
       "<div>\n",
       "<style scoped>\n",
       "    .dataframe tbody tr th:only-of-type {\n",
       "        vertical-align: middle;\n",
       "    }\n",
       "\n",
       "    .dataframe tbody tr th {\n",
       "        vertical-align: top;\n",
       "    }\n",
       "\n",
       "    .dataframe thead th {\n",
       "        text-align: right;\n",
       "    }\n",
       "</style>\n",
       "<table border=\"1\" class=\"dataframe\">\n",
       "  <thead>\n",
       "    <tr style=\"text-align: right;\">\n",
       "      <th></th>\n",
       "      <th>personLabel</th>\n",
       "      <th>birth</th>\n",
       "      <th>death</th>\n",
       "      <th>age</th>\n",
       "      <th>genderLabel</th>\n",
       "    </tr>\n",
       "  </thead>\n",
       "  <tbody>\n",
       "    <tr>\n",
       "      <th>291</th>\n",
       "      <td>Jiří Alter</td>\n",
       "      <td>1891-01-01T00:00:00Z</td>\n",
       "      <td>1972-10-30T00:00:00Z</td>\n",
       "      <td>81.0</td>\n",
       "      <td>male</td>\n",
       "    </tr>\n",
       "    <tr>\n",
       "      <th>292</th>\n",
       "      <td>Jiří Alter</td>\n",
       "      <td>1891-03-13T00:00:00Z</td>\n",
       "      <td>1972-01-01T00:00:00Z</td>\n",
       "      <td>81.0</td>\n",
       "      <td>male</td>\n",
       "    </tr>\n",
       "    <tr>\n",
       "      <th>293</th>\n",
       "      <td>Jiří Alter</td>\n",
       "      <td>1891-03-13T00:00:00Z</td>\n",
       "      <td>1972-10-30T00:00:00Z</td>\n",
       "      <td>81.0</td>\n",
       "      <td>male</td>\n",
       "    </tr>\n",
       "    <tr>\n",
       "      <th>485</th>\n",
       "      <td>Paul J. Weitz</td>\n",
       "      <td>1932-07-25T00:00:00Z</td>\n",
       "      <td>2017-10-23T00:00:00Z</td>\n",
       "      <td>85.0</td>\n",
       "      <td>male</td>\n",
       "    </tr>\n",
       "    <tr>\n",
       "      <th>491</th>\n",
       "      <td>Pavel Popovich</td>\n",
       "      <td>1930-10-05T00:00:00Z</td>\n",
       "      <td>2009-09-30T00:00:00Z</td>\n",
       "      <td>79.0</td>\n",
       "      <td>male</td>\n",
       "    </tr>\n",
       "    <tr>\n",
       "      <th>590</th>\n",
       "      <td>Sergei Anokhin</td>\n",
       "      <td>1910-04-01T00:00:00Z</td>\n",
       "      <td>1986-04-15T00:00:00Z</td>\n",
       "      <td>76.0</td>\n",
       "      <td>male</td>\n",
       "    </tr>\n",
       "    <tr>\n",
       "      <th>632</th>\n",
       "      <td>Sultan bin Salman Al Saud</td>\n",
       "      <td>1956-06-27T00:00:00Z</td>\n",
       "      <td>NaN</td>\n",
       "      <td>NaN</td>\n",
       "      <td>male</td>\n",
       "    </tr>\n",
       "    <tr>\n",
       "      <th>730</th>\n",
       "      <td>Yuri Baturin</td>\n",
       "      <td>1949-06-12T00:00:00Z</td>\n",
       "      <td>NaN</td>\n",
       "      <td>NaN</td>\n",
       "      <td>male</td>\n",
       "    </tr>\n",
       "  </tbody>\n",
       "</table>\n",
       "</div>"
      ],
      "text/plain": [
       "                   personLabel                 birth                 death  \\\n",
       "291                 Jiří Alter  1891-01-01T00:00:00Z  1972-10-30T00:00:00Z   \n",
       "292                 Jiří Alter  1891-03-13T00:00:00Z  1972-01-01T00:00:00Z   \n",
       "293                 Jiří Alter  1891-03-13T00:00:00Z  1972-10-30T00:00:00Z   \n",
       "485              Paul J. Weitz  1932-07-25T00:00:00Z  2017-10-23T00:00:00Z   \n",
       "491             Pavel Popovich  1930-10-05T00:00:00Z  2009-09-30T00:00:00Z   \n",
       "590             Sergei Anokhin  1910-04-01T00:00:00Z  1986-04-15T00:00:00Z   \n",
       "632  Sultan bin Salman Al Saud  1956-06-27T00:00:00Z                   NaN   \n",
       "730               Yuri Baturin  1949-06-12T00:00:00Z                   NaN   \n",
       "\n",
       "      age genderLabel  \n",
       "291  81.0        male  \n",
       "292  81.0        male  \n",
       "293  81.0        male  \n",
       "485  85.0        male  \n",
       "491  79.0        male  \n",
       "590  76.0        male  \n",
       "632   NaN        male  \n",
       "730   NaN        male  "
      ]
     },
     "execution_count": 145,
     "metadata": {},
     "output_type": "execute_result"
    }
   ],
   "source": [
    "occupation_data[occupation_data['personLabel'].duplicated() == True]"
   ]
  },
  {
   "cell_type": "code",
   "execution_count": 3,
   "metadata": {},
   "outputs": [
    {
     "data": {
      "text/html": [
       "<div>\n",
       "<style scoped>\n",
       "    .dataframe tbody tr th:only-of-type {\n",
       "        vertical-align: middle;\n",
       "    }\n",
       "\n",
       "    .dataframe tbody tr th {\n",
       "        vertical-align: top;\n",
       "    }\n",
       "\n",
       "    .dataframe thead th {\n",
       "        text-align: right;\n",
       "    }\n",
       "</style>\n",
       "<table border=\"1\" class=\"dataframe\">\n",
       "  <thead>\n",
       "    <tr style=\"text-align: right;\">\n",
       "      <th></th>\n",
       "      <th>personLabel</th>\n",
       "      <th>birth</th>\n",
       "      <th>death</th>\n",
       "      <th>age</th>\n",
       "      <th>genderLabel</th>\n",
       "    </tr>\n",
       "  </thead>\n",
       "  <tbody>\n",
       "    <tr>\n",
       "      <th>293</th>\n",
       "      <td>Jiří Alter</td>\n",
       "      <td>1891-03-13T00:00:00Z</td>\n",
       "      <td>1972-10-30T00:00:00Z</td>\n",
       "      <td>81.0</td>\n",
       "      <td>male</td>\n",
       "    </tr>\n",
       "  </tbody>\n",
       "</table>\n",
       "</div>"
      ],
      "text/plain": [
       "    personLabel                 birth                 death   age genderLabel\n",
       "293  Jiří Alter  1891-03-13T00:00:00Z  1972-10-30T00:00:00Z  81.0        male"
      ]
     },
     "execution_count": 3,
     "metadata": {},
     "output_type": "execute_result"
    }
   ],
   "source": [
    "occupation_data = occupation_data.drop([290, 291, 292, 589, 631, 729, 490, 484])\n",
    "\n",
    "occupation_data[occupation_data['personLabel'] == 'Jiří Alter']"
   ]
  },
  {
   "cell_type": "code",
   "execution_count": 4,
   "metadata": {},
   "outputs": [
    {
     "data": {
      "text/html": [
       "<div>\n",
       "<style scoped>\n",
       "    .dataframe tbody tr th:only-of-type {\n",
       "        vertical-align: middle;\n",
       "    }\n",
       "\n",
       "    .dataframe tbody tr th {\n",
       "        vertical-align: top;\n",
       "    }\n",
       "\n",
       "    .dataframe thead th {\n",
       "        text-align: right;\n",
       "    }\n",
       "</style>\n",
       "<table border=\"1\" class=\"dataframe\">\n",
       "  <thead>\n",
       "    <tr style=\"text-align: right;\">\n",
       "      <th></th>\n",
       "      <th>personLabel</th>\n",
       "      <th>birth</th>\n",
       "      <th>death</th>\n",
       "      <th>age</th>\n",
       "      <th>genderLabel</th>\n",
       "    </tr>\n",
       "  </thead>\n",
       "  <tbody>\n",
       "    <tr>\n",
       "      <th>0</th>\n",
       "      <td>Abdul Ahad Mohmand</td>\n",
       "      <td>1959-01-01T00:00:00Z</td>\n",
       "      <td>NaN</td>\n",
       "      <td>NaN</td>\n",
       "      <td>male</td>\n",
       "    </tr>\n",
       "    <tr>\n",
       "      <th>1</th>\n",
       "      <td>Abdulmohsen Al-Bassam</td>\n",
       "      <td>1948-12-12T00:00:00Z</td>\n",
       "      <td>NaN</td>\n",
       "      <td>NaN</td>\n",
       "      <td>male</td>\n",
       "    </tr>\n",
       "    <tr>\n",
       "      <th>2</th>\n",
       "      <td>Abigail Harrison</td>\n",
       "      <td>1997-06-11T00:00:00Z</td>\n",
       "      <td>NaN</td>\n",
       "      <td>NaN</td>\n",
       "      <td>female</td>\n",
       "    </tr>\n",
       "    <tr>\n",
       "      <th>3</th>\n",
       "      <td>Akihiko Hoshide</td>\n",
       "      <td>1968-12-28T00:00:00Z</td>\n",
       "      <td>NaN</td>\n",
       "      <td>NaN</td>\n",
       "      <td>male</td>\n",
       "    </tr>\n",
       "    <tr>\n",
       "      <th>4</th>\n",
       "      <td>Alan Bean</td>\n",
       "      <td>1932-03-15T00:00:00Z</td>\n",
       "      <td>2018-05-26T00:00:00Z</td>\n",
       "      <td>86.0</td>\n",
       "      <td>male</td>\n",
       "    </tr>\n",
       "  </tbody>\n",
       "</table>\n",
       "</div>"
      ],
      "text/plain": [
       "             personLabel                 birth                 death   age  \\\n",
       "0     Abdul Ahad Mohmand  1959-01-01T00:00:00Z                   NaN   NaN   \n",
       "1  Abdulmohsen Al-Bassam  1948-12-12T00:00:00Z                   NaN   NaN   \n",
       "2       Abigail Harrison  1997-06-11T00:00:00Z                   NaN   NaN   \n",
       "3        Akihiko Hoshide  1968-12-28T00:00:00Z                   NaN   NaN   \n",
       "4              Alan Bean  1932-03-15T00:00:00Z  2018-05-26T00:00:00Z  86.0   \n",
       "\n",
       "  genderLabel  \n",
       "0        male  \n",
       "1        male  \n",
       "2      female  \n",
       "3        male  \n",
       "4        male  "
      ]
     },
     "execution_count": 4,
     "metadata": {},
     "output_type": "execute_result"
    }
   ],
   "source": [
    "occupation_data.reset_index(drop=True, inplace=True)\n",
    "occupation_data.head()"
   ]
  },
  {
   "cell_type": "code",
   "execution_count": null,
   "metadata": {},
   "outputs": [],
   "source": []
  },
  {
   "cell_type": "code",
   "execution_count": null,
   "metadata": {},
   "outputs": [],
   "source": []
  },
  {
   "cell_type": "code",
   "execution_count": 5,
   "metadata": {},
   "outputs": [
    {
     "data": {
      "text/html": [
       "<div>\n",
       "<style scoped>\n",
       "    .dataframe tbody tr th:only-of-type {\n",
       "        vertical-align: middle;\n",
       "    }\n",
       "\n",
       "    .dataframe tbody tr th {\n",
       "        vertical-align: top;\n",
       "    }\n",
       "\n",
       "    .dataframe thead th {\n",
       "        text-align: right;\n",
       "    }\n",
       "</style>\n",
       "<table border=\"1\" class=\"dataframe\">\n",
       "  <thead>\n",
       "    <tr style=\"text-align: right;\">\n",
       "      <th></th>\n",
       "      <th>personLabel</th>\n",
       "      <th>birth</th>\n",
       "      <th>death</th>\n",
       "      <th>age</th>\n",
       "      <th>genderLabel</th>\n",
       "      <th>Day</th>\n",
       "      <th>Month</th>\n",
       "      <th>Year</th>\n",
       "    </tr>\n",
       "  </thead>\n",
       "  <tbody>\n",
       "    <tr>\n",
       "      <th>0</th>\n",
       "      <td>Abdul Ahad Mohmand</td>\n",
       "      <td>1959-01-01T00:00:00Z</td>\n",
       "      <td>NaN</td>\n",
       "      <td>NaN</td>\n",
       "      <td>male</td>\n",
       "      <td>1</td>\n",
       "      <td>1</td>\n",
       "      <td>1959</td>\n",
       "    </tr>\n",
       "    <tr>\n",
       "      <th>1</th>\n",
       "      <td>Abdulmohsen Al-Bassam</td>\n",
       "      <td>1948-12-12T00:00:00Z</td>\n",
       "      <td>NaN</td>\n",
       "      <td>NaN</td>\n",
       "      <td>male</td>\n",
       "      <td>12</td>\n",
       "      <td>12</td>\n",
       "      <td>1948</td>\n",
       "    </tr>\n",
       "    <tr>\n",
       "      <th>2</th>\n",
       "      <td>Abigail Harrison</td>\n",
       "      <td>1997-06-11T00:00:00Z</td>\n",
       "      <td>NaN</td>\n",
       "      <td>NaN</td>\n",
       "      <td>female</td>\n",
       "      <td>11</td>\n",
       "      <td>6</td>\n",
       "      <td>1997</td>\n",
       "    </tr>\n",
       "    <tr>\n",
       "      <th>3</th>\n",
       "      <td>Akihiko Hoshide</td>\n",
       "      <td>1968-12-28T00:00:00Z</td>\n",
       "      <td>NaN</td>\n",
       "      <td>NaN</td>\n",
       "      <td>male</td>\n",
       "      <td>28</td>\n",
       "      <td>12</td>\n",
       "      <td>1968</td>\n",
       "    </tr>\n",
       "    <tr>\n",
       "      <th>4</th>\n",
       "      <td>Alan Bean</td>\n",
       "      <td>1932-03-15T00:00:00Z</td>\n",
       "      <td>2018-05-26T00:00:00Z</td>\n",
       "      <td>86.0</td>\n",
       "      <td>male</td>\n",
       "      <td>15</td>\n",
       "      <td>3</td>\n",
       "      <td>1932</td>\n",
       "    </tr>\n",
       "  </tbody>\n",
       "</table>\n",
       "</div>"
      ],
      "text/plain": [
       "             personLabel                 birth                 death   age  \\\n",
       "0     Abdul Ahad Mohmand  1959-01-01T00:00:00Z                   NaN   NaN   \n",
       "1  Abdulmohsen Al-Bassam  1948-12-12T00:00:00Z                   NaN   NaN   \n",
       "2       Abigail Harrison  1997-06-11T00:00:00Z                   NaN   NaN   \n",
       "3        Akihiko Hoshide  1968-12-28T00:00:00Z                   NaN   NaN   \n",
       "4              Alan Bean  1932-03-15T00:00:00Z  2018-05-26T00:00:00Z  86.0   \n",
       "\n",
       "  genderLabel  Day  Month  Year  \n",
       "0        male    1      1  1959  \n",
       "1        male   12     12  1948  \n",
       "2      female   11      6  1997  \n",
       "3        male   28     12  1968  \n",
       "4        male   15      3  1932  "
      ]
     },
     "execution_count": 5,
     "metadata": {},
     "output_type": "execute_result"
    }
   ],
   "source": [
    "for i in range(occupation_data.shape[0]):\n",
    "    try:\n",
    "        matches = re.match(r\"(\\d{4})-(\\d{2})-(\\d{2})\", occupation_data.loc[i,'birth'])\n",
    "        occupation_data.loc[i,'Day']=int(matches[3])\n",
    "        occupation_data.loc[i,'Month']=int(matches[2])\n",
    "        occupation_data.loc[i,'Year']=int(matches[1])\n",
    "    except:\n",
    "        pass\n",
    "    \n",
    "occupation_data[['Day', 'Month', 'Year']] = occupation_data[['Day', 'Month', 'Year']].astype('int32')\n",
    "occupation_data.head()"
   ]
  },
  {
   "cell_type": "code",
   "execution_count": 6,
   "metadata": {},
   "outputs": [
    {
     "data": {
      "text/html": [
       "<div>\n",
       "<style scoped>\n",
       "    .dataframe tbody tr th:only-of-type {\n",
       "        vertical-align: middle;\n",
       "    }\n",
       "\n",
       "    .dataframe tbody tr th {\n",
       "        vertical-align: top;\n",
       "    }\n",
       "\n",
       "    .dataframe thead th {\n",
       "        text-align: right;\n",
       "    }\n",
       "</style>\n",
       "<table border=\"1\" class=\"dataframe\">\n",
       "  <thead>\n",
       "    <tr style=\"text-align: right;\">\n",
       "      <th></th>\n",
       "      <th>personLabel</th>\n",
       "      <th>birth</th>\n",
       "      <th>death</th>\n",
       "      <th>age</th>\n",
       "      <th>genderLabel</th>\n",
       "      <th>Day</th>\n",
       "      <th>Month</th>\n",
       "      <th>Year</th>\n",
       "    </tr>\n",
       "  </thead>\n",
       "  <tbody>\n",
       "  </tbody>\n",
       "</table>\n",
       "</div>"
      ],
      "text/plain": [
       "Empty DataFrame\n",
       "Columns: [personLabel, birth, death, age, genderLabel, Day, Month, Year]\n",
       "Index: []"
      ]
     },
     "execution_count": 6,
     "metadata": {},
     "output_type": "execute_result"
    }
   ],
   "source": [
    "occupation_data[occupation_data['Day'].isnull().values == True]"
   ]
  },
  {
   "cell_type": "code",
   "execution_count": null,
   "metadata": {},
   "outputs": [],
   "source": []
  },
  {
   "cell_type": "code",
   "execution_count": null,
   "metadata": {},
   "outputs": [],
   "source": []
  },
  {
   "cell_type": "code",
   "execution_count": null,
   "metadata": {},
   "outputs": [],
   "source": []
  },
  {
   "cell_type": "markdown",
   "metadata": {},
   "source": [
    "♈\tAries - March 21 – April 20\n",
    "♉\tTaurus - April 21 – May 21\n",
    "♊\tGemini - May 22 – June 21\n",
    "♋\tCancer - June 22 – July 22\n",
    "♌\tLeo - July 23 – August 22\n",
    "♍\tVirgo - August 23 – September 23\n",
    "♎\tLibra - September 24 – October 23\n",
    "♏\tScorpio - October 24 – November 22\n",
    "♐\tSagittarius - November 23 – December 21\n",
    "♑   Capricorn - December 22 – January 20\n",
    "♒   Aquarius - January 21 – February 19\n",
    "♓\tPisces - February 20 – March 20"
   ]
  },
  {
   "cell_type": "code",
   "execution_count": 14,
   "metadata": {},
   "outputs": [],
   "source": [
    "for i in range(occupation_data.shape[0]):\n",
    "    if occupation_data.loc[i,'Month']==1:\n",
    "        if occupation_data.loc[i,'Day']>=21:\n",
    "            occupation_data.loc[i,'SignLabel']='Aquarius'\n",
    "            occupation_data.loc[i,'SignN']=11\n",
    "        else:\n",
    "            occupation_data.loc[i,'SignLabel']='Capricorn'\n",
    "            occupation_data.loc[i,'SignN']=10\n",
    "\n",
    "    elif occupation_data.loc[i,'Month']==2:\n",
    "        if occupation_data.loc[i,'Day']>=20:\n",
    "            occupation_data.loc[i,'SignLabel']='Pisces'\n",
    "            occupation_data.loc[i,'SignN']=12\n",
    "        else:\n",
    "            occupation_data.loc[i,'SignLabel']='Aquarius'\n",
    "            occupation_data.loc[i,'SignN']=11\n",
    "\n",
    "    elif occupation_data.loc[i,'Month']==3:\n",
    "        if occupation_data.loc[i,'Day']>=21:\n",
    "            occupation_data.loc[i,'SignLabel']='Aries'\n",
    "            occupation_data.loc[i,'SignN']=1\n",
    "        else:\n",
    "            occupation_data.loc[i,'SignLabel']='Pisces'\n",
    "            occupation_data.loc[i,'SignN']=12\n",
    "\n",
    "    elif occupation_data.loc[i,'Month']==4:\n",
    "        if occupation_data.loc[i,'Day']>=21:\n",
    "            occupation_data.loc[i,'SignLabel']='Taurus'\n",
    "            occupation_data.loc[i,'SignN']=2\n",
    "        else:\n",
    "            occupation_data.loc[i,'SignLabel']='Aries'\n",
    "            occupation_data.loc[i,'SignN']=1\n",
    "\n",
    "    elif occupation_data.loc[i,'Month']==5:\n",
    "        if occupation_data.loc[i,'Day']>=22:\n",
    "            occupation_data.loc[i,'SignLabel']='Gemini'\n",
    "            occupation_data.loc[i,'SignN']=3\n",
    "        else:\n",
    "            occupation_data.loc[i,'SignLabel']='Taurus'\n",
    "            occupation_data.loc[i,'SignN']=2\n",
    "            \n",
    "    elif occupation_data.loc[i,'Month']==6:\n",
    "        if occupation_data.loc[i,'Day']>=22:\n",
    "            occupation_data.loc[i,'SignLabel']='Cancer'\n",
    "            occupation_data.loc[i,'SignN']=4\n",
    "        else:\n",
    "            occupation_data.loc[i,'SignLabel']='Gemini'\n",
    "            occupation_data.loc[i,'SignN']=3\n",
    "            \n",
    "    elif occupation_data.loc[i,'Month']==7:\n",
    "        if occupation_data.loc[i,'Day']>=23:\n",
    "            occupation_data.loc[i,'SignLabel']='Leo'\n",
    "            occupation_data.loc[i,'SignN']=5\n",
    "        else:\n",
    "            occupation_data.loc[i,'SignLabel']='Cancer'\n",
    "            occupation_data.loc[i,'SignN']=4\n",
    "            \n",
    "    elif occupation_data.loc[i,'Month']==8:\n",
    "        if occupation_data.loc[i,'Day']>=23:\n",
    "            occupation_data.loc[i,'SignLabel']='Virgo'\n",
    "            occupation_data.loc[i,'SignN']=6\n",
    "        else:\n",
    "            occupation_data.loc[i,'SignLabel']='Leo'\n",
    "            occupation_data.loc[i,'SignN']=5\n",
    "            \n",
    "    elif occupation_data.loc[i,'Month']==9:\n",
    "        if occupation_data.loc[i,'Day']>=24:\n",
    "            occupation_data.loc[i,'SignLabel']='Libra'\n",
    "            occupation_data.loc[i,'SignN']=5\n",
    "        else:\n",
    "            occupation_data.loc[i,'SignLabel']='Virgo'\n",
    "            occupation_data.loc[i,'SignN']=6\n",
    "            \n",
    "    elif occupation_data.loc[i,'Month']==10:\n",
    "        if occupation_data.loc[i,'Day']>=24:\n",
    "            occupation_data.loc[i,'SignLabel']='Scorpio'\n",
    "            occupation_data.loc[i,'SignN']=8\n",
    "        else:\n",
    "            occupation_data.loc[i,'SignLabel']='Libra'\n",
    "            occupation_data.loc[i,'SignN']=7\n",
    "            \n",
    "    elif occupation_data.loc[i,'Month']==11:\n",
    "        if occupation_data.loc[i,'Day']>=23:\n",
    "            occupation_data.loc[i,'SignLabel']='Sagittarius'\n",
    "            occupation_data.loc[i,'SignN']=9\n",
    "        else:\n",
    "            occupation_data.loc[i,'SignLabel']='Scorpio'\n",
    "            occupation_data.loc[i,'SignN']=8\n",
    "            \n",
    "    elif occupation_data.loc[i,'Month']==12:\n",
    "        if occupation_data.loc[i,'Day']>=21:\n",
    "            occupation_data.loc[i,'SignLabel']='Capricorn'\n",
    "            occupation_data.loc[i,'SignN']=10\n",
    "        else:\n",
    "            occupation_data.loc[i,'SignLabel']='Sagittarius'\n",
    "            occupation_data.loc[i,'SignN']=9"
   ]
  },
  {
   "cell_type": "code",
   "execution_count": 15,
   "metadata": {},
   "outputs": [
    {
     "data": {
      "text/html": [
       "<div>\n",
       "<style scoped>\n",
       "    .dataframe tbody tr th:only-of-type {\n",
       "        vertical-align: middle;\n",
       "    }\n",
       "\n",
       "    .dataframe tbody tr th {\n",
       "        vertical-align: top;\n",
       "    }\n",
       "\n",
       "    .dataframe thead th {\n",
       "        text-align: right;\n",
       "    }\n",
       "</style>\n",
       "<table border=\"1\" class=\"dataframe\">\n",
       "  <thead>\n",
       "    <tr style=\"text-align: right;\">\n",
       "      <th></th>\n",
       "      <th>personLabel</th>\n",
       "      <th>birth</th>\n",
       "      <th>death</th>\n",
       "      <th>age</th>\n",
       "      <th>genderLabel</th>\n",
       "      <th>Day</th>\n",
       "      <th>Month</th>\n",
       "      <th>Year</th>\n",
       "      <th>SignLabel</th>\n",
       "      <th>SignN</th>\n",
       "    </tr>\n",
       "  </thead>\n",
       "  <tbody>\n",
       "    <tr>\n",
       "      <th>0</th>\n",
       "      <td>Abdul Ahad Mohmand</td>\n",
       "      <td>1959-01-01T00:00:00Z</td>\n",
       "      <td>NaN</td>\n",
       "      <td>NaN</td>\n",
       "      <td>male</td>\n",
       "      <td>1</td>\n",
       "      <td>1</td>\n",
       "      <td>1959</td>\n",
       "      <td>Capricorn</td>\n",
       "      <td>10</td>\n",
       "    </tr>\n",
       "    <tr>\n",
       "      <th>1</th>\n",
       "      <td>Abdulmohsen Al-Bassam</td>\n",
       "      <td>1948-12-12T00:00:00Z</td>\n",
       "      <td>NaN</td>\n",
       "      <td>NaN</td>\n",
       "      <td>male</td>\n",
       "      <td>12</td>\n",
       "      <td>12</td>\n",
       "      <td>1948</td>\n",
       "      <td>Sagittarius</td>\n",
       "      <td>9</td>\n",
       "    </tr>\n",
       "    <tr>\n",
       "      <th>2</th>\n",
       "      <td>Abigail Harrison</td>\n",
       "      <td>1997-06-11T00:00:00Z</td>\n",
       "      <td>NaN</td>\n",
       "      <td>NaN</td>\n",
       "      <td>female</td>\n",
       "      <td>11</td>\n",
       "      <td>6</td>\n",
       "      <td>1997</td>\n",
       "      <td>Gemini</td>\n",
       "      <td>3</td>\n",
       "    </tr>\n",
       "    <tr>\n",
       "      <th>3</th>\n",
       "      <td>Akihiko Hoshide</td>\n",
       "      <td>1968-12-28T00:00:00Z</td>\n",
       "      <td>NaN</td>\n",
       "      <td>NaN</td>\n",
       "      <td>male</td>\n",
       "      <td>28</td>\n",
       "      <td>12</td>\n",
       "      <td>1968</td>\n",
       "      <td>Capricorn</td>\n",
       "      <td>10</td>\n",
       "    </tr>\n",
       "    <tr>\n",
       "      <th>4</th>\n",
       "      <td>Alan Bean</td>\n",
       "      <td>1932-03-15T00:00:00Z</td>\n",
       "      <td>2018-05-26T00:00:00Z</td>\n",
       "      <td>86.0</td>\n",
       "      <td>male</td>\n",
       "      <td>15</td>\n",
       "      <td>3</td>\n",
       "      <td>1932</td>\n",
       "      <td>Pisces</td>\n",
       "      <td>12</td>\n",
       "    </tr>\n",
       "  </tbody>\n",
       "</table>\n",
       "</div>"
      ],
      "text/plain": [
       "             personLabel                 birth                 death   age  \\\n",
       "0     Abdul Ahad Mohmand  1959-01-01T00:00:00Z                   NaN   NaN   \n",
       "1  Abdulmohsen Al-Bassam  1948-12-12T00:00:00Z                   NaN   NaN   \n",
       "2       Abigail Harrison  1997-06-11T00:00:00Z                   NaN   NaN   \n",
       "3        Akihiko Hoshide  1968-12-28T00:00:00Z                   NaN   NaN   \n",
       "4              Alan Bean  1932-03-15T00:00:00Z  2018-05-26T00:00:00Z  86.0   \n",
       "\n",
       "  genderLabel  Day  Month  Year    SignLabel  SignN  \n",
       "0        male    1      1  1959    Capricorn     10  \n",
       "1        male   12     12  1948  Sagittarius      9  \n",
       "2      female   11      6  1997       Gemini      3  \n",
       "3        male   28     12  1968    Capricorn     10  \n",
       "4        male   15      3  1932       Pisces     12  "
      ]
     },
     "execution_count": 15,
     "metadata": {},
     "output_type": "execute_result"
    }
   ],
   "source": [
    "occupation_data[\"SignN\"] = occupation_data['SignN'].astype('int32')\n",
    "occupation_data.head()"
   ]
  },
  {
   "cell_type": "code",
   "execution_count": 8,
   "metadata": {},
   "outputs": [
    {
     "data": {
      "text/html": [
       "<div>\n",
       "<style scoped>\n",
       "    .dataframe tbody tr th:only-of-type {\n",
       "        vertical-align: middle;\n",
       "    }\n",
       "\n",
       "    .dataframe tbody tr th {\n",
       "        vertical-align: top;\n",
       "    }\n",
       "\n",
       "    .dataframe thead th {\n",
       "        text-align: right;\n",
       "    }\n",
       "</style>\n",
       "<table border=\"1\" class=\"dataframe\">\n",
       "  <thead>\n",
       "    <tr style=\"text-align: right;\">\n",
       "      <th></th>\n",
       "      <th>genderLabel</th>\n",
       "      <th>personLabel</th>\n",
       "      <th>birth</th>\n",
       "      <th>death</th>\n",
       "      <th>age</th>\n",
       "      <th>Day</th>\n",
       "      <th>Month</th>\n",
       "      <th>Year</th>\n",
       "    </tr>\n",
       "  </thead>\n",
       "  <tbody>\n",
       "    <tr>\n",
       "      <th>0</th>\n",
       "      <td>female</td>\n",
       "      <td>91</td>\n",
       "      <td>91</td>\n",
       "      <td>9</td>\n",
       "      <td>9</td>\n",
       "      <td>91</td>\n",
       "      <td>91</td>\n",
       "      <td>91</td>\n",
       "    </tr>\n",
       "    <tr>\n",
       "      <th>1</th>\n",
       "      <td>male</td>\n",
       "      <td>649</td>\n",
       "      <td>649</td>\n",
       "      <td>157</td>\n",
       "      <td>157</td>\n",
       "      <td>649</td>\n",
       "      <td>649</td>\n",
       "      <td>649</td>\n",
       "    </tr>\n",
       "    <tr>\n",
       "      <th>2</th>\n",
       "      <td>transgender female</td>\n",
       "      <td>1</td>\n",
       "      <td>1</td>\n",
       "      <td>0</td>\n",
       "      <td>0</td>\n",
       "      <td>1</td>\n",
       "      <td>1</td>\n",
       "      <td>1</td>\n",
       "    </tr>\n",
       "  </tbody>\n",
       "</table>\n",
       "</div>"
      ],
      "text/plain": [
       "          genderLabel  personLabel  birth  death  age  Day  Month  Year\n",
       "0              female           91     91      9    9   91     91    91\n",
       "1                male          649    649    157  157  649    649   649\n",
       "2  transgender female            1      1      0    0    1      1     1"
      ]
     },
     "execution_count": 8,
     "metadata": {},
     "output_type": "execute_result"
    }
   ],
   "source": [
    "gender_data=occupation_data.groupby('genderLabel').count().reset_index()\n",
    "gender_data"
   ]
  },
  {
   "cell_type": "code",
   "execution_count": 191,
   "metadata": {},
   "outputs": [
    {
     "name": "stdout",
     "output_type": "stream",
     "text": [
      "male astronauts are 649 or 87.58% from the total 741\n",
      "female astronauts are 91 or 12.28% from the total 741\n",
      "other astronauts are 1 or 0.13% from the total 741\n"
     ]
    }
   ],
   "source": [
    "total=gender_data['personLabel'].sum()\n",
    "male=gender_data.loc[1,'personLabel']\n",
    "female=gender_data.loc[0,'personLabel']\n",
    "other=gender_data.loc[2,'personLabel']\n",
    "\n",
    "print(f\"\"\"male astronauts are {male} or {(male/total)*100:.2f}% from the total {total}\n",
    "female astronauts are {female} or {(female/total)*100:.2f}% from the total {total}\n",
    "other astronauts are {other} or {(other/total)*100:.2f}% from the total {total}\"\"\")"
   ]
  },
  {
   "cell_type": "code",
   "execution_count": 11,
   "metadata": {},
   "outputs": [
    {
     "data": {
      "image/png": "[encoded data removed]",
      "text/plain": [
       "<Figure size 1152x432 with 1 Axes>"
      ]
     },
     "metadata": {
      "needs_background": "light"
     },
     "output_type": "display_data"
    }
   ],
   "source": [
    "f, ax = plt.subplots(figsize=(16, 6))\n",
    "\n",
    "ax = sns.barplot(x='genderLabel', y='personLabel', data=gender_data, color=\"b\", ci=None)\n",
    "\n",
    "# ax.set_title('Gender of the astronauts')\n",
    "ax.set_xlabel('Gender')\n",
    "ax.set_ylabel('Count')\n",
    "\n",
    "plt.savefig('gender.png', dpi = 72, transparent = True, bbox_inches='tight', pad_inches=0.5)"
   ]
  },
  {
   "cell_type": "code",
   "execution_count": 16,
   "metadata": {},
   "outputs": [
    {
     "data": {
      "text/html": [
       "<div>\n",
       "<style scoped>\n",
       "    .dataframe tbody tr th:only-of-type {\n",
       "        vertical-align: middle;\n",
       "    }\n",
       "\n",
       "    .dataframe tbody tr th {\n",
       "        vertical-align: top;\n",
       "    }\n",
       "\n",
       "    .dataframe thead th {\n",
       "        text-align: right;\n",
       "    }\n",
       "</style>\n",
       "<table border=\"1\" class=\"dataframe\">\n",
       "  <thead>\n",
       "    <tr style=\"text-align: right;\">\n",
       "      <th></th>\n",
       "      <th>SignLabel</th>\n",
       "      <th>SignN</th>\n",
       "      <th>Sign</th>\n",
       "    </tr>\n",
       "  </thead>\n",
       "  <tbody>\n",
       "    <tr>\n",
       "      <th>9</th>\n",
       "      <td>Aries</td>\n",
       "      <td>54</td>\n",
       "      <td>1.0</td>\n",
       "    </tr>\n",
       "    <tr>\n",
       "      <th>5</th>\n",
       "      <td>Taurus</td>\n",
       "      <td>73</td>\n",
       "      <td>2.0</td>\n",
       "    </tr>\n",
       "    <tr>\n",
       "      <th>2</th>\n",
       "      <td>Gemini</td>\n",
       "      <td>56</td>\n",
       "      <td>3.0</td>\n",
       "    </tr>\n",
       "    <tr>\n",
       "      <th>10</th>\n",
       "      <td>Cancer</td>\n",
       "      <td>53</td>\n",
       "      <td>4.0</td>\n",
       "    </tr>\n",
       "    <tr>\n",
       "      <th>7</th>\n",
       "      <td>Leo</td>\n",
       "      <td>67</td>\n",
       "      <td>5.0</td>\n",
       "    </tr>\n",
       "    <tr>\n",
       "      <th>11</th>\n",
       "      <td>Virgo</td>\n",
       "      <td>85</td>\n",
       "      <td>6.0</td>\n",
       "    </tr>\n",
       "    <tr>\n",
       "      <th>6</th>\n",
       "      <td>Libra</td>\n",
       "      <td>61</td>\n",
       "      <td>7.0</td>\n",
       "    </tr>\n",
       "    <tr>\n",
       "      <th>4</th>\n",
       "      <td>Scorpio</td>\n",
       "      <td>66</td>\n",
       "      <td>8.0</td>\n",
       "    </tr>\n",
       "    <tr>\n",
       "      <th>1</th>\n",
       "      <td>Sagittarius</td>\n",
       "      <td>39</td>\n",
       "      <td>9.0</td>\n",
       "    </tr>\n",
       "    <tr>\n",
       "      <th>0</th>\n",
       "      <td>Capricorn</td>\n",
       "      <td>68</td>\n",
       "      <td>10.0</td>\n",
       "    </tr>\n",
       "    <tr>\n",
       "      <th>8</th>\n",
       "      <td>Aquarius</td>\n",
       "      <td>52</td>\n",
       "      <td>11.0</td>\n",
       "    </tr>\n",
       "    <tr>\n",
       "      <th>3</th>\n",
       "      <td>Pisces</td>\n",
       "      <td>67</td>\n",
       "      <td>12.0</td>\n",
       "    </tr>\n",
       "  </tbody>\n",
       "</table>\n",
       "</div>"
      ],
      "text/plain": [
       "      SignLabel  SignN  Sign\n",
       "9         Aries     54   1.0\n",
       "5        Taurus     73   2.0\n",
       "2        Gemini     56   3.0\n",
       "10       Cancer     53   4.0\n",
       "7           Leo     67   5.0\n",
       "11        Virgo     85   6.0\n",
       "6         Libra     61   7.0\n",
       "4       Scorpio     66   8.0\n",
       "1   Sagittarius     39   9.0\n",
       "0     Capricorn     68  10.0\n",
       "8      Aquarius     52  11.0\n",
       "3        Pisces     67  12.0"
      ]
     },
     "execution_count": 16,
     "metadata": {},
     "output_type": "execute_result"
    }
   ],
   "source": [
    "sign_data=occupation_data.groupby('SignLabel', sort=False)['SignN'].count().reset_index()\n",
    "\n",
    "sign_data.loc[sign_data['SignLabel'] == 'Aries','Sign']=1\n",
    "sign_data.loc[sign_data['SignLabel'] == 'Taurus','Sign']=2\n",
    "sign_data.loc[sign_data['SignLabel'] == 'Gemini','Sign']=3\n",
    "sign_data.loc[sign_data['SignLabel'] == 'Cancer','Sign']=4\n",
    "sign_data.loc[sign_data['SignLabel'] == 'Leo','Sign']=5\n",
    "sign_data.loc[sign_data['SignLabel'] == 'Virgo','Sign']=6\n",
    "sign_data.loc[sign_data['SignLabel'] == 'Libra','Sign']=7\n",
    "sign_data.loc[sign_data['SignLabel'] == 'Scorpio','Sign']=8\n",
    "sign_data.loc[sign_data['SignLabel'] == 'Sagittarius','Sign']=9\n",
    "sign_data.loc[sign_data['SignLabel'] == 'Capricorn','Sign']=10\n",
    "sign_data.loc[sign_data['SignLabel'] == 'Aquarius','Sign']=11\n",
    "sign_data.loc[sign_data['SignLabel'] == 'Pisces','Sign']=12\n",
    "\n",
    "sign_data.sort_values(\"Sign\", axis = 0, ascending = True, inplace = True, na_position = 'last')\n",
    "sign_data"
   ]
  },
  {
   "cell_type": "code",
   "execution_count": 298,
   "metadata": {},
   "outputs": [
    {
     "name": "stdout",
     "output_type": "stream",
     "text": [
      "count    12.000000\n",
      "mean     61.750000\n",
      "std      11.917329\n",
      "min      39.000000\n",
      "25%      53.750000\n",
      "50%      63.500000\n",
      "75%      67.250000\n",
      "max      85.000000\n",
      "Name: SignN, dtype: float64\n"
     ]
    }
   ],
   "source": [
    "print(sign_data['SignN'].describe())"
   ]
  },
  {
   "cell_type": "code",
   "execution_count": 243,
   "metadata": {},
   "outputs": [
    {
     "name": "stdout",
     "output_type": "stream",
     "text": [
      "stat=0.969, p=0.905\n",
      "Probably Gaussian\n"
     ]
    }
   ],
   "source": [
    "from scipy.stats import shapiro\n",
    "\n",
    "stat, p = shapiro(sign_data['SignN'])\n",
    "print('stat=%.3f, p=%.3f' % (stat, p))\n",
    "if p > 0.05:\n",
    "    print('Probably Gaussian')\n",
    "else:\n",
    "    print('Probably not Gaussian')"
   ]
  },
  {
   "cell_type": "code",
   "execution_count": 18,
   "metadata": {},
   "outputs": [
    {
     "name": "stderr",
     "output_type": "stream",
     "text": [
      "C:\\Users\\nikola\\AppData\\Local\\Continuum\\anaconda3\\lib\\site-packages\\scipy\\stats\\stats.py:1713: FutureWarning: Using a non-tuple sequence for multidimensional indexing is deprecated; use `arr[tuple(seq)]` instead of `arr[seq]`. In the future this will be interpreted as an array index, `arr[np.array(seq)]`, which will result either in an error or a different result.\n",
      "  return np.add.reduce(sorted[indexer] * weights, axis=axis) / sumval\n"
     ]
    },
    {
     "data": {
      "image/png": "[encoded data removed]",
      "text/plain": [
       "<Figure size 1152x432 with 1 Axes>"
      ]
     },
     "metadata": {
      "needs_background": "light"
     },
     "output_type": "display_data"
    }
   ],
   "source": [
    "f, ax = plt.subplots(figsize=(16, 6))\n",
    "\n",
    "sns.distplot(sign_data['SignN'], bins=5, kde=True, rug=True)\n",
    "\n",
    "plt.savefig('sign_his.png', dpi = 72, transparent = True, bbox_inches='tight', pad_inches=0.5)"
   ]
  },
  {
   "cell_type": "code",
   "execution_count": null,
   "metadata": {},
   "outputs": [],
   "source": []
  },
  {
   "cell_type": "code",
   "execution_count": 22,
   "metadata": {},
   "outputs": [
    {
     "data": {
      "image/png": "[encoded data removed]",
      "text/plain": [
       "<Figure size 1152x432 with 1 Axes>"
      ]
     },
     "metadata": {
      "needs_background": "light"
     },
     "output_type": "display_data"
    }
   ],
   "source": [
    "f, ax = plt.subplots(figsize=(16, 6))\n",
    "\n",
    "ax = sns.barplot(x='SignLabel', y='SignN', data=sign_data, color=\"b\", ci=None)\n",
    "ax.set_xticklabels(sign_data['SignLabel'], rotation = 45, ha=\"right\")\n",
    "\n",
    "mean=sign_data['SignN'].mean()\n",
    "ax.axhline(mean, color='k', linestyle='--')\n",
    "\n",
    "median=sign_data['SignN'].median()\n",
    "ax.axhline(median, color='g', linestyle='--')\n",
    "\n",
    "mode=sign_data['SignN'].mode()[0]\n",
    "ax.axhline(mode, color='r', linestyle='--')\n",
    "\n",
    "plt.legend({f'Mean - {mean:.1f}':mean,\n",
    "            f'Median - {median:.1f}':median,\n",
    "            f'Mode - {mode:.1f}':mode})\n",
    "\n",
    "ax.set_xlabel('Sign')\n",
    "ax.set_ylabel('Count')\n",
    "\n",
    "for i,v in enumerate(round(sign_data['SignN'],2)):\n",
    "    plt.text(i-.1, 5, str(v), color='black', fontweight='bold')\n",
    "    \n",
    "plt.savefig('sign.png', dpi = 72, transparent = True, bbox_inches='tight', pad_inches=0.5)"
   ]
  },
  {
   "cell_type": "code",
   "execution_count": 23,
   "metadata": {},
   "outputs": [
    {
     "data": {
      "image/png": "[encoded data removed]",
      "text/plain": [
       "<Figure size 1152x432 with 1 Axes>"
      ]
     },
     "metadata": {
      "needs_background": "light"
     },
     "output_type": "display_data"
    }
   ],
   "source": [
    "# The Most Adventurous Zodiac Signs\n",
    "\n",
    "# Sagittarius - 7\n",
    "# Aquarius - 6\n",
    "# Aries - 5\n",
    "# Gemini - 4\n",
    "# Libra - 3\n",
    "# Scorpio - 3\n",
    "clrs=['r', 'b', 'b', 'b', 'b', 'b', 'b', 'b', 'r', 'b', 'r', 'b']\n",
    "f, ax = plt.subplots(figsize=(16, 6))\n",
    "\n",
    "ax = sns.barplot(x='SignLabel', y='SignN', data=sign_data, color=\"b\", ci=None, palette=clrs)\n",
    "ax.set_xticklabels(sign_data['SignLabel'], rotation = 45, ha=\"right\")\n",
    "\n",
    "mean=sign_data['SignN'].mean()\n",
    "ax.axhline(mean, color='k', linestyle='--')\n",
    "\n",
    "ax.set_xlabel('Sign')\n",
    "ax.set_ylabel('Count')\n",
    "\n",
    "plt.savefig('sign_adventur.png', dpi = 72, transparent = True, bbox_inches='tight', pad_inches=0.5)"
   ]
  },
  {
   "cell_type": "code",
   "execution_count": null,
   "metadata": {},
   "outputs": [],
   "source": []
  },
  {
   "cell_type": "code",
   "execution_count": 26,
   "metadata": {},
   "outputs": [
    {
     "data": {
      "image/png": "[encoded data removed]",
      "text/plain": [
       "<Figure size 1152x432 with 1 Axes>"
      ]
     },
     "metadata": {
      "needs_background": "light"
     },
     "output_type": "display_data"
    }
   ],
   "source": [
    "d_data=occupation_data.groupby('Day', sort=False).count().reset_index()\n",
    "\n",
    "f, ax = plt.subplots(figsize=(16, 6))\n",
    "\n",
    "mean=d_data['personLabel'].mean()\n",
    "ax.axhline(mean, color='k', linestyle='--')\n",
    "\n",
    "median=d_data['personLabel'].median()\n",
    "ax.axhline(median, color='g', linestyle='--')\n",
    "\n",
    "mode=d_data['personLabel'].mode()[0]\n",
    "ax.axhline(mode, color='r', linestyle='--')\n",
    "\n",
    "plt.legend({f'Mean - {mean:.1f}':mean,\n",
    "            f'Median - {median:.1f}':median,\n",
    "            f'Mode - {mode:.1f}':mode})\n",
    "\n",
    "ax = sns.barplot(x='Day', y='personLabel', data=d_data, color=\"b\", ci=None)\n",
    "\n",
    "ax.set_xlabel('Day')\n",
    "ax.set_ylabel('Count')\n",
    "\n",
    "plt.savefig('sign_day.png', dpi = 72, transparent = True, bbox_inches='tight', pad_inches=0.5)"
   ]
  },
  {
   "cell_type": "code",
   "execution_count": 25,
   "metadata": {},
   "outputs": [
    {
     "data": {
      "image/png": "[encoded data removed]",
      "text/plain": [
       "<Figure size 1152x432 with 1 Axes>"
      ]
     },
     "metadata": {
      "needs_background": "light"
     },
     "output_type": "display_data"
    }
   ],
   "source": [
    "m_data=occupation_data.groupby('Month', sort=False).count().reset_index()\n",
    "\n",
    "f, ax = plt.subplots(figsize=(16, 6))\n",
    "\n",
    "mean=m_data['personLabel'].mean()\n",
    "ax.axhline(mean, color='k', linestyle='--')\n",
    "\n",
    "median=m_data['personLabel'].median()\n",
    "ax.axhline(median, color='g', linestyle='--')\n",
    "\n",
    "mode=m_data['personLabel'].mode()[0]\n",
    "ax.axhline(mode, color='r', linestyle='--')\n",
    "\n",
    "plt.legend({f'Mean - {mean:.1f}':mean,\n",
    "            f'Median - {median:.1f}':median,\n",
    "            f'Mode - {mode:.1f}':mode})\n",
    "\n",
    "ax = sns.barplot(x='Month', y='personLabel', data=m_data, color=\"b\", ci=None)\n",
    "\n",
    "ax.set_xlabel('Month')\n",
    "ax.set_ylabel('Count')\n",
    "\n",
    "plt.savefig('sign_month.png', dpi = 72, transparent = True, bbox_inches='tight', pad_inches=0.5)"
   ]
  }
 ],
 "metadata": {
  "kernelspec": {
   "display_name": "Python 3",
   "language": "python",
   "name": "python3"
  },
  "language_info": {
   "codemirror_mode": {
    "name": "ipython",
    "version": 3
   },
   "file_extension": ".py",
   "mimetype": "text/x-python",
   "name": "python",
   "nbconvert_exporter": "python",
   "pygments_lexer": "ipython3",
   "version": "3.7.0"
  }
 },
 "nbformat": 4,
 "nbformat_minor": 2
}
